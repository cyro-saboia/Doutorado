{
 "cells": [
  {
   "cell_type": "code",
   "execution_count": 10,
   "id": "a2c0d10e-b381-47f9-86e3-ba111f642561",
   "metadata": {},
   "outputs": [],
   "source": [
    "import cv2\n",
    "import os\n",
    "import time\n",
    "from pathlib import Path\n",
    "import matplotlib.pyplot as plt\n",
    "\n",
    "class Detection:\n",
    "    \n",
    "    def __init__ (self, cascade_url, path, pathToSave):\n",
    "        self.cascade_url = cascade_url\n",
    "        self.path = path\n",
    "        self.pathToSave = pathToSave\n",
    "   \n",
    "    def adjusted_detect_plate(self,img):\n",
    "        \n",
    "        plate_cascade = cv2.CascadeClassifier(self.cascade_url)\n",
    "        plate_img = img.copy()\n",
    "        plate_rect = plate_cascade.detectMultiScale(plate_img, scaleFactor=1.2, minNeighbors=2, minSize=(1,1), maxSize=(500,500)) #USADO NO TERCEIRO ARTIGO\n",
    "        cropped = False\n",
    "        crop = None\n",
    "        for (x, y, w, h) in plate_rect:\n",
    "            cv2.rectangle(plate_img, (x, y), (x + w, y + h), (0, 0, 255), 3)\n",
    "            crop = img[y:y+h, x:x+w]\n",
    "            cropped = True  \n",
    "        return plate_img, cropped, crop\n",
    "\n",
    "    def run(self):\n",
    "        \n",
    "        images = []\n",
    "        i = 0\n",
    "        tempoGasto = 0\n",
    "        for filename in os.listdir(self.path):\n",
    "            img = cv2.imread(os.path.join(self.path,filename))\n",
    "            if img is not None:\n",
    "                i +=1\n",
    "                start = time.time()\n",
    "                imgToSave, cropped, crop = self.adjusted_detect_plate(img)\n",
    "                if cropped:\n",
    "                    #crop = cv2.resize(crop,(240,78))\n",
    "                    cv2.imwrite(os.path.join(self.pathToSave , filename.split('.')[0]+'.jpg'), crop)\n",
    "                    end = time.time()\n",
    "                    result = end - start\n",
    "                    print(result)\n",
    "                    tempoGasto += result  \n",
    "        print('total: ',  i)\n",
    "        print('Tempo total: ',  tempoGasto)\n",
    "        print('Tempo Gasto Por Detecção: ',  tempoGasto / 100)"
   ]
  },
  {
   "cell_type": "code",
   "execution_count": 11,
   "id": "ec13db3f-4183-49a8-a690-61f1155e7576",
   "metadata": {},
   "outputs": [],
   "source": [
    "cascade_url = r'cascade - 17962 positivas 35658 negativas - ARTIGO 3/cascade.xml'\n",
    "# path = r'crops'\n",
    "# pathToSave = r'Ajuste de Perspectiva\\cropsAdjustedDetectionTimeCalculation'\n",
    "\n",
    "path = r'jerovane'\n",
    "pathToSave = r'jerovaneout'\n",
    "\n",
    "d = Detection(cascade_url, path, pathToSave)"
   ]
  },
  {
   "cell_type": "code",
   "execution_count": 12,
   "id": "55efd82e-2231-4f44-bea6-0e623e79b747",
   "metadata": {},
   "outputs": [
    {
     "name": "stdout",
     "output_type": "stream",
     "text": [
      "0.004960536956787109\n",
      "0.011993169784545898\n",
      "total:  2\n",
      "Tempo total:  0.016953706741333008\n",
      "Tempo Gasto Por Detecção:  0.00016953706741333009\n"
     ]
    }
   ],
   "source": [
    "d.run()"
   ]
  }
 ],
 "metadata": {
  "kernelspec": {
   "display_name": "Python 3",
   "language": "python",
   "name": "python3"
  },
  "language_info": {
   "codemirror_mode": {
    "name": "ipython",
    "version": 3
   },
   "file_extension": ".py",
   "mimetype": "text/x-python",
   "name": "python",
   "nbconvert_exporter": "python",
   "pygments_lexer": "ipython3",
   "version": "3.8.2"
  }
 },
 "nbformat": 4,
 "nbformat_minor": 5
}
