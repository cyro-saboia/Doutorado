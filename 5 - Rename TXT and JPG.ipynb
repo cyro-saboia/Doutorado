{
 "cells": [
  {
   "cell_type": "code",
   "execution_count": 1,
   "id": "6e293eb3-fd67-4bfa-81c0-72a8d5980882",
   "metadata": {},
   "outputs": [],
   "source": [
    "import cv2\n",
    "import os\n",
    "import numpy as np\n",
    "from pathlib import Path\n",
    "import matplotlib.pyplot as plt\n",
    "\n",
    "\n",
    "#     os.rename(os.path.join(labelFolder ,filename), filename.replace(\"ã\", \"a\"))\n",
    "#     arquivo = open(labelFolder+'/'+filename, 'r')\n",
    "#     print(arquivo)\n",
    "    \n",
    "#     cv2.imwrite(os.path.join(labelFolder , filename.replace(\"ã\", \"a\")), arquivo)\n",
    "#     cv2.waitKey(0)\n",
    "    \n",
    "#     for linha in arquivo:    \n",
    "#         i=i+1\n",
    "#         imageName = filename.replace('.txt', '.png')\n",
    "#         image = cv2.imread(os.path.join(imageFolder,imageName))\n",
    "#         if image is not None:\n",
    "#             print('image '+str(i), imageName)\n",
    "#         else:\n",
    "#             print('SEM IMAGEM: '+str(i), imageName)"
   ]
  },
  {
   "cell_type": "code",
   "execution_count": 2,
   "id": "239182c6-a4f8-4f4a-b67d-a34620bb8845",
   "metadata": {},
   "outputs": [
    {
     "name": "stdout",
     "output_type": "stream",
     "text": [
      "FIM\n"
     ]
    }
   ],
   "source": [
    "lote = 'Lote2'\n",
    "# labelFolder = 'labelsMercosulReal1000'+lote\n",
    "labelFolder = 'p'\n",
    "i = 0\n",
    "for filename in os.listdir(labelFolder):\n",
    "#     print(filename.replace(\"ã\", \"a\"))\n",
    "    if \" - \" in filename:\n",
    "#     if \"ã\" in filename:\n",
    "        old_file = os.path.join(labelFolder, filename)\n",
    "#         new_file = os.path.join(labelFolder, filename.replace(\"ã\", \"a\"))\n",
    "        new_file = os.path.join(labelFolder, filename.replace(\" - \", \"\"))\n",
    "        os.rename(old_file, new_file)\n",
    "print(\"FIM\")"
   ]
  },
  {
   "cell_type": "code",
   "execution_count": 2,
   "id": "7480aa47-71c4-43f8-a93c-caf114e35e23",
   "metadata": {},
   "outputs": [
    {
     "ename": "NameError",
     "evalue": "name 'os' is not defined",
     "output_type": "error",
     "traceback": [
      "\u001b[1;31m---------------------------------------------------------------------------\u001b[0m",
      "\u001b[1;31mNameError\u001b[0m                                 Traceback (most recent call last)",
      "\u001b[1;32m<ipython-input-2-803726d98641>\u001b[0m in \u001b[0;36m<module>\u001b[1;34m\u001b[0m\n\u001b[0;32m      1\u001b[0m \u001b[0mdatasetFolder\u001b[0m \u001b[1;33m=\u001b[0m \u001b[1;34m'Ajuste de Perspectiva\\Table6datasetMercosulReal1000Lote1'\u001b[0m\u001b[1;33m\u001b[0m\u001b[1;33m\u001b[0m\u001b[0m\n\u001b[1;32m----> 2\u001b[1;33m \u001b[1;32mfor\u001b[0m \u001b[0mfilename\u001b[0m \u001b[1;32min\u001b[0m \u001b[0mos\u001b[0m\u001b[1;33m.\u001b[0m\u001b[0mlistdir\u001b[0m\u001b[1;33m(\u001b[0m\u001b[0mdatasetFolder\u001b[0m\u001b[1;33m)\u001b[0m\u001b[1;33m:\u001b[0m\u001b[1;33m\u001b[0m\u001b[1;33m\u001b[0m\u001b[0m\n\u001b[0m\u001b[0;32m      3\u001b[0m     \u001b[0mprint\u001b[0m\u001b[1;33m(\u001b[0m\u001b[0mfilename\u001b[0m\u001b[1;33m.\u001b[0m\u001b[0mreplace\u001b[0m\u001b[1;33m(\u001b[0m\u001b[1;34m\"ã\"\u001b[0m\u001b[1;33m,\u001b[0m \u001b[1;34m\"a\"\u001b[0m\u001b[1;33m)\u001b[0m\u001b[1;33m)\u001b[0m\u001b[1;33m\u001b[0m\u001b[1;33m\u001b[0m\u001b[0m\n\u001b[0;32m      4\u001b[0m     \u001b[1;32mif\u001b[0m \u001b[1;34m\"ã\"\u001b[0m \u001b[1;32min\u001b[0m \u001b[0mfilename\u001b[0m\u001b[1;33m:\u001b[0m\u001b[1;33m\u001b[0m\u001b[1;33m\u001b[0m\u001b[0m\n\u001b[0;32m      5\u001b[0m         \u001b[0mold_file\u001b[0m \u001b[1;33m=\u001b[0m \u001b[0mos\u001b[0m\u001b[1;33m.\u001b[0m\u001b[0mpath\u001b[0m\u001b[1;33m.\u001b[0m\u001b[0mjoin\u001b[0m\u001b[1;33m(\u001b[0m\u001b[0mdatasetFolder\u001b[0m\u001b[1;33m,\u001b[0m \u001b[0mfilename\u001b[0m\u001b[1;33m)\u001b[0m\u001b[1;33m\u001b[0m\u001b[1;33m\u001b[0m\u001b[0m\n",
      "\u001b[1;31mNameError\u001b[0m: name 'os' is not defined"
     ]
    }
   ],
   "source": [
    "datasetFolder = r'Ajuste de Perspectiva\\Table6datasetMercosulReal1000Lote1'\n",
    "for filename in os.listdir(datasetFolder):\n",
    "    print(filename.replace(\"ã\", \"a\"))\n",
    "    if \"ã\" in filename:\n",
    "        old_file = os.path.join(datasetFolder, filename)\n",
    "        new_file = os.path.join(datasetFolder, filename.replace(\"ã\", \"a\"))\n",
    "        os.rename(old_file, new_file)\n",
    "print(\"FIM\")"
   ]
  }
 ],
 "metadata": {
  "kernelspec": {
   "display_name": "Python 3",
   "language": "python",
   "name": "python3"
  },
  "language_info": {
   "codemirror_mode": {
    "name": "ipython",
    "version": 3
   },
   "file_extension": ".py",
   "mimetype": "text/x-python",
   "name": "python",
   "nbconvert_exporter": "python",
   "pygments_lexer": "ipython3",
   "version": "3.8.2"
  }
 },
 "nbformat": 4,
 "nbformat_minor": 5
}
