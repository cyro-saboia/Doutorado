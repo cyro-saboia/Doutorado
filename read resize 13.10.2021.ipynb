{
 "cells": [
  {
   "cell_type": "markdown",
   "id": "14a94200-3851-4bc2-ad0b-d0ad08a60b60",
   "metadata": {},
   "source": [
    "# Resize das imagens NEGATIVAS"
   ]
  },
  {
   "cell_type": "code",
   "execution_count": 4,
   "id": "4d5a0af1-d4e4-4ccd-abcc-f731be036420",
   "metadata": {},
   "outputs": [],
   "source": [
    "import cv2\n",
    "import os\n",
    "import numpy as np\n",
    "from pathlib import Path\n",
    "import matplotlib.pyplot as plt\n",
    "\n",
    "folder = r'Ajuste de Perspectiva\\Artigo 3\\Figura conclusao\\pre'\n",
    "pathToSave = r'Ajuste de Perspectiva\\Artigo 3\\Figura conclusao\\pre'\n",
    "\n",
    "i = 1\n",
    "dir = os.listdir(folder)\n",
    "for filename in dir: #os.listdir(folder):\n",
    "    img = cv2.imread(os.path.join(folder,filename))\n",
    "#     imgGray = cv2.cvtColor(img, cv2.COLOR_BGR2GRAY)\n",
    "#     img = cv2.resize(img,(120,39))\n",
    "    resized = cv2.resize(img.copy(),(240,78))\n",
    "#     cv2.imwrite(os.path.join(pathToSave , str(i)+'.jpg'), img)\n",
    "#     cv2.imwrite(os.path.join(pathToSave , filename), resized)\n",
    "    cv2.imwrite(os.path.join(pathToSave , filename+'resized'+'.jpg'), resized)\n",
    "#     os.remove('{}/{}'.format(folder, filename))\n",
    "    i +=1"
   ]
  }
 ],
 "metadata": {
  "kernelspec": {
   "display_name": "Python 3",
   "language": "python",
   "name": "python3"
  },
  "language_info": {
   "codemirror_mode": {
    "name": "ipython",
    "version": 3
   },
   "file_extension": ".py",
   "mimetype": "text/x-python",
   "name": "python",
   "nbconvert_exporter": "python",
   "pygments_lexer": "ipython3",
   "version": "3.8.2"
  }
 },
 "nbformat": 4,
 "nbformat_minor": 5
}
