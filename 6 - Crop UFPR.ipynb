{
 "cells": [
  {
   "cell_type": "code",
   "execution_count": 2,
   "id": "b49fb389-719e-4a93-a921-413cf471f781",
   "metadata": {},
   "outputs": [],
   "source": [
    "import cv2\n",
    "import os\n",
    "import numpy as np\n",
    "from pathlib import Path\n",
    "import matplotlib.pyplot as plt\n",
    "\n",
    "\n",
    "      "
   ]
  },
  {
   "cell_type": "markdown",
   "id": "485c12f6-8d15-4263-aa5e-07bcbf27c731",
   "metadata": {},
   "source": [
    "# UFPR-ALPR"
   ]
  },
  {
   "cell_type": "code",
   "execution_count": null,
   "id": "73980169-5ed6-476f-9780-56fa18b067af",
   "metadata": {},
   "outputs": [],
   "source": [
    "labelFolder = r'Artigo 4/UFPR_ALPR/label'\n",
    "imageFolder = r'Artigo 4/UFPR_ALPR/data'\n",
    "pathToSave = r'Artigo 4/UFPR_ALPR/crops'\n",
    "\n",
    "for filename in os.listdir(labelFolder):\n",
    "    arquivo = open(labelFolder+'/'+filename, 'r')\n",
    "    position = arquivo.readlines()[7].split(': ')[1]\n",
    "\n",
    "    x, y, w, h = map(int, position.split(' '))\n",
    "    \n",
    "    imageName = filename.replace('.txt', '.png')\n",
    "    image = cv2.imread(os.path.join(imageFolder,imageName))\n",
    "    \n",
    "    if image is not None:   \n",
    "        crop = image[y:y+h, x:x+w]\n",
    "        cv2.imwrite(os.path.join(pathToSave , imageName), crop)\n",
    "        cv2.waitKey(0)\n",
    "        \n",
    "print('FIM') "
   ]
  },
  {
   "cell_type": "markdown",
   "id": "227e364c-5cf6-4c16-b6a7-271cb33d0e3d",
   "metadata": {},
   "source": [
    "# RODOSOL-ALPR"
   ]
  },
  {
   "cell_type": "code",
   "execution_count": 26,
   "id": "2d0183f1-87e3-4b9d-b8e7-e2278c6aee8b",
   "metadata": {},
   "outputs": [
    {
     "name": "stdout",
     "output_type": "stream",
     "text": [
      "FIM\n"
     ]
    }
   ],
   "source": [
    "labelFolder = r'Artigo 4/RODOSOL_ALPR/label'\n",
    "imageFolder = r'Artigo 4/RODOSOL_ALPR/data'\n",
    "pathToSave = r'Artigo 4/RODOSOL_ALPR/crops'\n",
    "\n",
    "for filename in os.listdir(labelFolder):\n",
    "    arquivo = open(labelFolder+'/'+filename, 'r')\n",
    "    position = arquivo.readlines()[3].split(': ')[1]\n",
    "    \n",
    "    x, y, w, h = map(str, position.split(' '))\n",
    "       \n",
    "    x1 = int(x.split(',')[0])\n",
    "    y1 = int(x.split(',')[1])\n",
    "    x2 = int(y.split(',')[0])\n",
    "    y2 = int(y.split(',')[1])\n",
    "    x3 = int(w.split(',')[0])\n",
    "    y3 = int(w.split(',')[1])\n",
    "    x4 = int(h.split(',')[0])\n",
    "    y4 = int(h.split(',')[1])\n",
    "    \n",
    "    top_left_x = min([x1,x2,x3,x4])\n",
    "    top_left_y = min([y1,y2,y3,y4])\n",
    "    bot_right_x = max([x1,x2,x3,x4])\n",
    "    bot_right_y = max([y1,y2,y3,y4])\n",
    "    \n",
    "    imageName = filename.replace('.txt', '.jpg')\n",
    "    image = cv2.imread(os.path.join(imageFolder,imageName))    \n",
    "    \n",
    "    if image is not None:   \n",
    "        crop = image[top_left_y:bot_right_y, top_left_x:bot_right_x]\n",
    "        cv2.imwrite(os.path.join(pathToSave , imageName), crop)\n",
    "        cv2.waitKey(0)\n",
    "        \n",
    "print('FIM')     "
   ]
  }
 ],
 "metadata": {
  "kernelspec": {
   "display_name": "Python 3",
   "language": "python",
   "name": "python3"
  },
  "language_info": {
   "codemirror_mode": {
    "name": "ipython",
    "version": 3
   },
   "file_extension": ".py",
   "mimetype": "text/x-python",
   "name": "python",
   "nbconvert_exporter": "python",
   "pygments_lexer": "ipython3",
   "version": "3.8.2"
  }
 },
 "nbformat": 4,
 "nbformat_minor": 5
}
