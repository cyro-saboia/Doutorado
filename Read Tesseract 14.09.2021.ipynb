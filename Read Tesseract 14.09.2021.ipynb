{
 "cells": [
  {
   "cell_type": "code",
   "execution_count": null,
   "id": "0cc4900c-6b63-413b-9626-261eeef16521",
   "metadata": {},
   "outputs": [],
   "source": [
    "import os\n",
    "import cv2\n",
    "import numpy as np\n",
    "import pytesseract\n",
    "from PIL import Image\n",
    "import matplotlib.pyplot as plt\n",
    "\n",
    "pytesseract.pytesseract.tesseract_cmd = r'C:\\Program Files\\Tesseract-OCR\\tesseract.exe'\n",
    "\n",
    "folder = 'resultCascade'\n",
    "pathToSave = 'resultCascade'\n",
    "\n",
    "\n",
    "i = 1\n",
    "for filename in os.listdir(folder):\n",
    "#     path = folder+'\\\\'+filename\n",
    "    img = cv2.imread(os.path.join(folder,filename))\n",
    "    img = cv2.cvtColor(img, cv2.COLOR_BGR2GRAY)\n",
    "    plt.imshow(img, cmap='gray')\n",
    "    plt.show()\n",
    "    thresh = cv2.adaptiveThreshold(img, 255, cv2.ADAPTIVE_THRESH_MEAN_C, cv2.THRESH_BINARY, 21, 10)\n",
    "    plt.imshow(thresh, cmap='gray')\n",
    "    plt.show()\n",
    "    \n",
    "    text = pytesseract.image_to_string(thresh)#(Image.open(path))\n",
    "#     os.remove(filename)\n",
    "    print('Text:', text)"
   ]
  }
 ],
 "metadata": {
  "kernelspec": {
   "display_name": "Python 3",
   "language": "python",
   "name": "python3"
  },
  "language_info": {
   "codemirror_mode": {
    "name": "ipython",
    "version": 3
   },
   "file_extension": ".py",
   "mimetype": "text/x-python",
   "name": "python",
   "nbconvert_exporter": "python",
   "pygments_lexer": "ipython3",
   "version": "3.8.2"
  }
 },
 "nbformat": 4,
 "nbformat_minor": 5
}
