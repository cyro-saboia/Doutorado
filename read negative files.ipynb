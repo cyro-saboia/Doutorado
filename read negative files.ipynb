{
 "cells": [
  {
   "cell_type": "markdown",
   "id": "be790f62-e516-49a6-a76f-1d6c2b0fea83",
   "metadata": {},
   "source": [
    "# Crop a imagem a partir dos valores do txt"
   ]
  },
  {
   "cell_type": "code",
   "execution_count": 1,
   "id": "4c12235d-cc89-462d-b454-1e5f1ce433b6",
   "metadata": {},
   "outputs": [],
   "source": [
    "import cv2\n",
    "import os\n",
    "import numpy as np\n",
    "from pathlib import Path\n",
    "import matplotlib.pyplot as plt\n",
    "\n",
    "labelFolder = 'labels'\n",
    "imageFolder = 'datasetPlacas'\n",
    "pathToSave = 'p'\n",
    "i = 0\n",
    "for filename in os.listdir(labelFolder):\n",
    "    \n",
    "    arquivo = open(labelFolder+'/'+filename, 'r')\n",
    "    \n",
    "    for linha in arquivo:    \n",
    "        \n",
    "        imageName = filename.replace('.txt', '.JPG')\n",
    "        image = cv2.imread(os.path.join(imageFolder,imageName))\n",
    "        \n",
    "        if image is not None:\n",
    "            dh, dw, _ = image.shape\n",
    "            _, x, y, w, h = map(float, linha.split(' '))\n",
    "\n",
    "            l = int((x - w / 2) * dw)\n",
    "            r = int((x + w / 2) * dw)\n",
    "            t = int((y - h / 2) * dh)\n",
    "            b = int((y + h / 2) * dh)\n",
    "\n",
    "            if l < 0:\n",
    "                l = 0\n",
    "            if r > dw - 1:\n",
    "                r = dw - 1\n",
    "            if t < 0:\n",
    "                t = 0\n",
    "            if b > dh - 1:\n",
    "                b = dh - 1\n",
    "            \n",
    "            # Aumentar o crop da imagem quando possível\n",
    "            if t - 5 < 0:\n",
    "                t = 0 \n",
    "            else:\n",
    "                t = t - 5\n",
    "            \n",
    "            if l - 5 < 0:\n",
    "                l = 0 \n",
    "            else:\n",
    "                l = l - 5\n",
    "            b = b + 5      \n",
    "            r = r + 5\n",
    "        \n",
    "            crop = image[t:b,l:r]\n",
    "            crop = cv2.cvtColor(crop, cv2.COLOR_BGR2GRAY)\n",
    "            crop = cv2.resize(img,(240,78))\n",
    "            cv2.imwrite(os.path.join(pathToSave , imageName), crop)\n",
    "            cv2.waitKey(0)\n",
    "#             cv2.rectangle(image, (l, t), (r, b), (255, 0, 0), 5)\n",
    "\n",
    "#             plt.imshow(crop)\n",
    "#             plt.show()"
   ]
  }
 ],
 "metadata": {
  "kernelspec": {
   "display_name": "Python 3",
   "language": "python",
   "name": "python3"
  },
  "language_info": {
   "codemirror_mode": {
    "name": "ipython",
    "version": 3
   },
   "file_extension": ".py",
   "mimetype": "text/x-python",
   "name": "python",
   "nbconvert_exporter": "python",
   "pygments_lexer": "ipython3",
   "version": "3.8.2"
  }
 },
 "nbformat": 4,
 "nbformat_minor": 5
}
